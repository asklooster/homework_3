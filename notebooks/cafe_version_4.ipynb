{
 "cells": [
  {
   "cell_type": "code",
   "execution_count": 1,
   "id": "39ea8c6f-aa7b-48f2-a693-10b4b0179fa5",
   "metadata": {},
   "outputs": [],
   "source": [
    "import math\n",
    "import numpy as np\n",
    "import pandas as pd\n",
    "from scipy import optimize\n",
    "import matplotlib.pyplot as plt\n",
    "import seaborn as sns\n",
    "from numpy.random import default_rng\n",
    "from IPython.display import Image\n",
    "import simpy\n",
    "from pathlib import Path"
   ]
  },
  {
   "cell_type": "markdown",
   "id": "92b588fb-bf52-4c4a-9c45-bd5dd4d37f05",
   "metadata": {},
   "source": [
    "Chunk below sets the random seed for similation. I had a hard time finding a point where I could insert this block into main functions listed below. "
   ]
  },
  {
   "cell_type": "code",
   "execution_count": 2,
   "id": "42253511-821e-44ef-8e62-a2b11cb2d8ea",
   "metadata": {},
   "outputs": [],
   "source": [
    "rg = default_rng(seed=4470)"
   ]
  },
  {
   "cell_type": "markdown",
   "id": "38315fe6-2457-46e7-b6f0-f1b0054f49d2",
   "metadata": {},
   "source": [
    "Next chunk establishes class object for the coffee shop we are trying to replicate. Given more time I would have liked to have fine tuned the values given to mean_order_time and mean_fulfillment_time, and their corresponding standard deviations. "
   ]
  },
  {
   "cell_type": "code",
   "execution_count": 3,
   "id": "908c02bc-d30f-461e-b073-ee5db557573e",
   "metadata": {
    "tags": []
   },
   "outputs": [],
   "source": [
    "class coffee_shop(object):\n",
    "    def __init__(self, env, num_cashiers = 2, num_baristas = 2, mean_order_time = .4, sd_order_time = .05, mean_fulfillment_time = .75, sd_fulfillment_time = .10, rg = rg):\n",
    "        \n",
    "        self.env = env\n",
    "        self.rg = rg\n",
    "        \n",
    "        self.cashiers = simpy.Resource(env, num_cashiers)\n",
    "        self.baristas = simpy.Resource(env, num_baristas)\n",
    "        \n",
    "        self.mean_order_time = mean_order_time\n",
    "        self.sd_order_time = sd_order_time\n",
    "        \n",
    "        self.mean_fulfillment_time = mean_fulfillment_time\n",
    "        self.sd_fulfillment_time = sd_fulfillment_time\n",
    "        \n",
    "    def order_drinks(self, customer):\n",
    "        yield self.env.timeout(self.rg.normal(self.mean_order_time, self.sd_order_time))\n",
    "        \n",
    "    def get_drinks(self, customer):\n",
    "        yield self.env.timeout(self.rg.normal(self.mean_fulfillment_time, self.sd_fulfillment_time))"
   ]
  },
  {
   "cell_type": "markdown",
   "id": "fe5bd7eb-e69d-4e7b-8c49-ea3a9cae1b37",
   "metadata": {},
   "source": [
    "The get_coffee function runs for each 'customer' that passes through our similation. Their order quantity is randomly assigned using Poisson distribution, to remedy zeros I added 1 to each generated value. Cashier and Barista resources must address all order items before being released to next customer. "
   ]
  },
  {
   "cell_type": "code",
   "execution_count": 4,
   "id": "8889826e-115f-41c2-8f5a-3ce3e18528d3",
   "metadata": {},
   "outputs": [],
   "source": [
    "def get_coffee(env, customer, Coffee_shop):\n",
    "    arrival_time = env.now\n",
    "    order_qty = rg.poisson(1) + 1\n",
    "    \n",
    "    with Coffee_shop.cashiers.request() as request:\n",
    "        yield request\n",
    "        reached_cashier = env.now\n",
    "        for i in range(order_qty):\n",
    "            yield env.process(Coffee_shop.order_drinks(customer))\n",
    "            # print(f\"Customer {customer + 1} order for item {i + 1} of {order_qty} is placed at time {env.now:.2f}\")\n",
    "    order_placed = env.now\n",
    "    \n",
    "    with Coffee_shop.baristas.request() as request:\n",
    "        yield request\n",
    "        reached_barista = env.now\n",
    "        for i in range(order_qty):\n",
    "            yield env.process(Coffee_shop.get_drinks(customer))\n",
    "            # print(f\"Customer {customer + 1} order for item {i + 1} of {order_qty} is fulfilled at time {env.now:.2f}\")\n",
    "    order_fulfilled = env.now\n",
    "    \n",
    "    total_drinks.append(order_qty + 1)\n",
    "    wait_times.append(env.now - arrival_time)\n",
    "    wait_time = env.now - arrival_time\n",
    "    order_to_fulfillment_wait = order_fulfilled - order_placed\n",
    "    \n",
    "    timestamps = {'customer_id': customer + 1,\n",
    "                  'arrival_time': arrival_time,\n",
    "                  'reached_cashier': reached_cashier,\n",
    "                  'order_qty': order_qty,\n",
    "                  'order_placed': order_placed,\n",
    "                  'reached_barista': reached_barista,\n",
    "                  'order_fulfilled': order_fulfilled,\n",
    "                  'order_processing_time': order_to_fulfillment_wait,\n",
    "                  'total_wait': wait_time}\n",
    "    \n",
    "    timestamps_list.append(timestamps)\n",
    "    "
   ]
  },
  {
   "cell_type": "markdown",
   "id": "3d1ddb22-a2e3-404a-93db-eb672ced6414",
   "metadata": {},
   "source": [
    "The run_coffee_shop function processes the similation using input parameters. Customer arrival times are established with user supplied mean arrival time and generated with a poisson distribution. "
   ]
  },
  {
   "cell_type": "code",
   "execution_count": 5,
   "id": "9db08884-14a0-4e63-81bc-7c10aa9deeeb",
   "metadata": {},
   "outputs": [],
   "source": [
    "def run_coffee_shop(env, num_cashiers, num_baristas, mean_arrival_time, stoptime, max_arrivals):\n",
    "    Coffee_shop = coffee_shop(env, num_cashiers, num_baristas)\n",
    "    \n",
    "    for customer in range(3):\n",
    "        env.process(get_coffee(env, customer, Coffee_shop))\n",
    "    \n",
    "    while env.now < stoptime and customer < max_arrivals:\n",
    "        iat = rg.poisson(mean_arrival_time)\n",
    "        \n",
    "        yield env.timeout(iat)\n",
    "        \n",
    "        customer += 1\n",
    "        \n",
    "        env.process(get_coffee(env, customer, Coffee_shop))\n",
    "        \n",
    "    print(f\"{customer} customers have arrived.\")\n",
    "    \n",
    "    "
   ]
  },
  {
   "cell_type": "markdown",
   "id": "3b5b8249-99e3-4267-8018-140a2c7ce518",
   "metadata": {},
   "source": [
    "Using get_user_input someone can run simulation multiple times and generate multiple csvs for various scenarios. "
   ]
  },
  {
   "cell_type": "code",
   "execution_count": 6,
   "id": "cabc756f-ca4c-4c58-bf74-bc6d976902c6",
   "metadata": {},
   "outputs": [],
   "source": [
    "def get_user_input():\n",
    "    num_cashiers = input(\"Input # of cashiers working: \")\n",
    "    num_baristas = input(\"Input # of baristas working: \")\n",
    "    mean_arrival_time = input(\"Input customer mean arrival time:\")\n",
    "    stoptime = input(\"Input stoptime:\")\n",
    "    max_arrivals = input(\"Input max number of arrivals\")\n",
    "    \n",
    "    params = [num_cashiers, num_baristas, mean_arrival_time, stoptime, max_arrivals]\n",
    "    \n",
    "    if all(str(i).isdigit() for i in params):  # Check input is valid\n",
    "        params = [int(x) for x in params]\n",
    "    else:\n",
    "        print(\n",
    "            \"Could not parse input. The simulation will use default values:\",\n",
    "            \"\\n1 cashier, 2 baristas, a 3 minutes average arrival time, 480 max stoptime and 600 max arrivals.\",\n",
    "        )\n",
    "        params = [1, 2, 3, 480, 600]\n",
    "    return params"
   ]
  },
  {
   "cell_type": "markdown",
   "id": "6ac0a38d-29cb-4ab6-b4f1-2eea0326228d",
   "metadata": {},
   "source": [
    "The two chunks below provide average wait time and maximum wait time for summary stats at the conclusion of simulation. "
   ]
  },
  {
   "cell_type": "code",
   "execution_count": 7,
   "id": "52e73e16-b566-44ec-a52c-78b6d956f2ea",
   "metadata": {},
   "outputs": [],
   "source": [
    "def get_average_wait_time(wait_times):\n",
    "    average_wait = np.mean(wait_times)\n",
    "    minutes, frac_minutes = divmod(average_wait, 1)\n",
    "    seconds = frac_minutes * 60\n",
    "    return round(minutes), round(seconds)"
   ]
  },
  {
   "cell_type": "code",
   "execution_count": 8,
   "id": "78ef8e0b-a0f1-4f7a-9e2b-aeed9afbb865",
   "metadata": {},
   "outputs": [],
   "source": [
    "def get_max_wait_time(wait_times):\n",
    "    max_wait = np.max(wait_times)\n",
    "    minutes, frac_minutes = divmod(max_wait, 1)\n",
    "    seconds = frac_minutes * 60\n",
    "    return round(minutes), round(seconds)"
   ]
  },
  {
   "cell_type": "markdown",
   "id": "9e4d2d4b-6ba5-434d-a269-f31cd60b7506",
   "metadata": {},
   "source": [
    "This chuck initiates the user input prompts and kick starts the similation. "
   ]
  },
  {
   "cell_type": "code",
   "execution_count": 9,
   "id": "313ac529-5d24-4fe3-bd28-e28c0102e2fd",
   "metadata": {
    "tags": []
   },
   "outputs": [
    {
     "name": "stdin",
     "output_type": "stream",
     "text": [
      "Input # of cashiers working:  1\n",
      "Input # of baristas working:  3\n",
      "Input customer mean arrival time: 4\n",
      "Input stoptime: 250\n",
      "Input max number of arrivals 500\n"
     ]
    },
    {
     "name": "stdout",
     "output_type": "stream",
     "text": [
      "Running simulation...\n",
      "67 customers have arrived.\n",
      "\n",
      "Coffee shop made 205 drinks. \n",
      "The average wait time is 2 minutes and 25 seconds. \n",
      "The longest wait time was 5 minutes and 3 seconds.\n"
     ]
    }
   ],
   "source": [
    "# generate empty lists for current simulation\n",
    "total_drinks = []\n",
    "wait_times = []\n",
    "timestamps_list = []\n",
    "def main():\n",
    "    # gather user input and attribute values to appropriate variables\n",
    "    num_cashiers, num_baristas, mean_arrival_time, stoptime, max_arrivals = get_user_input()\n",
    "    \n",
    "    print(\"Running simulation...\")\n",
    "\n",
    "    # Run the simulation\n",
    "    env = simpy.Environment()\n",
    "    env.process(run_coffee_shop(env, num_cashiers, num_baristas, mean_arrival_time, stoptime, max_arrivals))\n",
    "    env.run()\n",
    "    \n",
    "    # Create data frame and update values to identify parameters. Then save as csv to output folder. \n",
    "    df = pd.DataFrame(timestamps_list)\n",
    "    df['num_cashiers'] = num_cashiers\n",
    "    df['num_baristas'] = num_baristas\n",
    "    df['mean_arrival_time'] = mean_arrival_time\n",
    "    df_name = f\"cafe_sim_cashiers{num_cashiers}_baristas{num_baristas}_MAT{mean_arrival_time}\"\n",
    "    output_path = f'../output/{df_name}'\n",
    "    df.to_csv(output_path, index=False)\n",
    "    \n",
    "    # Give some high level results\n",
    "    tot_drinks = sum(total_drinks)\n",
    "    mins, secs = get_average_wait_time(wait_times)\n",
    "    mx_mins, mx_secs = get_max_wait_time(wait_times)\n",
    "    print(\n",
    "        f\"\\nCoffee shop made {tot_drinks} drinks.\",\n",
    "        f\"\\nThe average wait time is {mins} minutes and {secs} seconds.\",\n",
    "        f\"\\nThe longest wait time was {mx_mins} minutes and {mx_secs} seconds.\",\n",
    "    )\n",
    "\n",
    "\n",
    "if __name__ == \"__main__\":\n",
    "    main()"
   ]
  }
 ],
 "metadata": {
  "kernelspec": {
   "display_name": "Python 3",
   "language": "python",
   "name": "python3"
  },
  "language_info": {
   "codemirror_mode": {
    "name": "ipython",
    "version": 3
   },
   "file_extension": ".py",
   "mimetype": "text/x-python",
   "name": "python",
   "nbconvert_exporter": "python",
   "pygments_lexer": "ipython3",
   "version": "3.7.7"
  }
 },
 "nbformat": 4,
 "nbformat_minor": 5
}
