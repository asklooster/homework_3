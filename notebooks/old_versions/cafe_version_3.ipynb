{
 "cells": [
  {
   "cell_type": "code",
   "execution_count": 1,
   "id": "39ea8c6f-aa7b-48f2-a693-10b4b0179fa5",
   "metadata": {},
   "outputs": [],
   "source": [
    "import math\n",
    "import numpy as np\n",
    "import pandas as pd\n",
    "from scipy import optimize\n",
    "import matplotlib.pyplot as plt\n",
    "import seaborn as sns\n",
    "from numpy.random import default_rng\n",
    "from IPython.display import Image\n",
    "import simpy\n",
    "from pathlib import Path"
   ]
  },
  {
   "cell_type": "code",
   "execution_count": null,
   "id": "d7a70ea0-85cd-49f2-ad8c-c2b844d290c5",
   "metadata": {},
   "outputs": [],
   "source": [
    "from pathlib import Path"
   ]
  },
  {
   "cell_type": "code",
   "execution_count": null,
   "id": "b00d0db9-3cc9-4212-81eb-4c4225a97757",
   "metadata": {},
   "outputs": [],
   "source": [
    "%whos"
   ]
  },
  {
   "cell_type": "code",
   "execution_count": null,
   "id": "dcd21ef8-a145-4880-b22a-d1910d40f312",
   "metadata": {},
   "outputs": [],
   "source": [
    "import random"
   ]
  },
  {
   "cell_type": "code",
   "execution_count": 2,
   "id": "42253511-821e-44ef-8e62-a2b11cb2d8ea",
   "metadata": {},
   "outputs": [],
   "source": [
    "rg = default_rng(seed=4470)"
   ]
  },
  {
   "cell_type": "code",
   "execution_count": null,
   "id": "a3d1f445-ad53-46af-9366-adf4113ecf05",
   "metadata": {},
   "outputs": [],
   "source": [
    "wait_times = []\n",
    "timestamps_list = []"
   ]
  },
  {
   "cell_type": "code",
   "execution_count": 3,
   "id": "908c02bc-d30f-461e-b073-ee5db557573e",
   "metadata": {
    "tags": []
   },
   "outputs": [],
   "source": [
    "class coffee_shop(object):\n",
    "    def __init__(self, env, num_cashiers = 2, num_baristas = 2,mean_order_time = .4, sd_order_time = .05, mean_fulfillment_time = .75, sd_fulfillment_time = .10, rg = rg):\n",
    "        \n",
    "        self.env = env\n",
    "        self.rg = rg\n",
    "        \n",
    "        self.cashiers = simpy.Resource(env, num_cashiers)\n",
    "        self.baristas = simpy.Resource(env, num_baristas)\n",
    "        \n",
    "        self.mean_order_time = mean_order_time\n",
    "        self.sd_order_time = sd_order_time\n",
    "        \n",
    "        self.mean_fulfillment_time = mean_fulfillment_time\n",
    "        self.sd_fulfillment_time = sd_fulfillment_time\n",
    "        \n",
    "    def order_drinks(self, customer):\n",
    "        yield self.env.timeout(self.rg.normal(self.mean_order_time, self.sd_order_time))\n",
    "        \n",
    "    def get_drinks(self, customer):\n",
    "        yield self.env.timeout(self.rg.normal(self.mean_fulfillment_time, self.sd_fulfillment_time))"
   ]
  },
  {
   "cell_type": "code",
   "execution_count": null,
   "id": "a630a5ed-3536-47cc-84a5-818e4bf6609d",
   "metadata": {},
   "outputs": [],
   "source": [
    "s = np.random.poisson(1, 10000) + 1"
   ]
  },
  {
   "cell_type": "code",
   "execution_count": null,
   "id": "69359656-5120-4a08-ab23-1dc987069835",
   "metadata": {},
   "outputs": [],
   "source": [
    "count, bins, ignored = plt.hist(s, 14, density=True)\n",
    "plt.show()"
   ]
  },
  {
   "cell_type": "code",
   "execution_count": null,
   "id": "6ece2ed9-defb-4a99-97ba-5311be608fca",
   "metadata": {},
   "outputs": [],
   "source": [
    "s[:10]"
   ]
  },
  {
   "cell_type": "code",
   "execution_count": null,
   "id": "ed71eab0-b59d-48f0-b1d5-20d91c7fb47a",
   "metadata": {},
   "outputs": [],
   "source": [
    "q = rg.normal(.75, .1, 100000111)"
   ]
  },
  {
   "cell_type": "code",
   "execution_count": null,
   "id": "53ec4054-0923-4a55-8160-e481b397f308",
   "metadata": {},
   "outputs": [],
   "source": [
    "for i in q:\n",
    "    if i < 0:\n",
    "        print(i)"
   ]
  },
  {
   "cell_type": "code",
   "execution_count": 4,
   "id": "8889826e-115f-41c2-8f5a-3ce3e18528d3",
   "metadata": {},
   "outputs": [],
   "source": [
    "def get_coffee(env, customer, Coffee_shop):\n",
    "    arrival_time = env.now\n",
    "    order_qty = rg.poisson(1) + 1\n",
    "    \n",
    "    with Coffee_shop.cashiers.request() as request:\n",
    "        yield request\n",
    "        reached_cashier = env.now\n",
    "        for i in range(order_qty):\n",
    "            yield env.process(Coffee_shop.order_drinks(customer))\n",
    "            # print(f\"Customer {customer + 1} order for item {i + 1} of {order_qty} is placed at time {env.now:.2f}\")\n",
    "    order_placed = env.now\n",
    "    \n",
    "    with Coffee_shop.baristas.request() as request:\n",
    "        yield request\n",
    "        reached_barista = env.now\n",
    "        for i in range(order_qty):\n",
    "            yield env.process(Coffee_shop.get_drinks(customer))\n",
    "            # print(f\"Customer {customer + 1} order for item {i + 1} of {order_qty} is fulfilled at time {env.now:.2f}\")\n",
    "    order_fulfilled = env.now\n",
    "    \n",
    "    total_drinks.append(order_qty + 1)\n",
    "    wait_times.append(env.now - arrival_time)\n",
    "    wait_time = env.now - arrival_time\n",
    "    order_to_fulfillment_wait = order_fulfilled - order_placed\n",
    "    \n",
    "    timestamps = {'customer_id': customer + 1,\n",
    "                  'arrival_time': arrival_time,\n",
    "                  'reached_cashier': reached_cashier,\n",
    "                  'order_qty': order_qty,\n",
    "                  'order_placed': order_placed,\n",
    "                  'reached_barista': reached_barista,\n",
    "                  'order_fulfilled': order_fulfilled,\n",
    "                  'order_processing_time': order_to_fulfillment_wait,\n",
    "                  'total_wait': wait_time}\n",
    "    \n",
    "    timestamps_list.append(timestamps)\n",
    "    "
   ]
  },
  {
   "cell_type": "code",
   "execution_count": 5,
   "id": "9db08884-14a0-4e63-81bc-7c10aa9deeeb",
   "metadata": {},
   "outputs": [],
   "source": [
    "def run_coffee_shop(env, num_cashiers, num_baristas, mean_arrival_time, stoptime = simpy.core.Infinity, max_arrivals = 200):\n",
    "    Coffee_shop = coffee_shop(env, num_cashiers, num_baristas)\n",
    "    \n",
    "    for customer in range(3):\n",
    "        env.process(get_coffee(env, customer, Coffee_shop))\n",
    "    \n",
    "    while env.now < stoptime and customer < max_arrivals:\n",
    "        iat = rg.poisson(mean_arrival_time)\n",
    "        \n",
    "        yield env.timeout(iat)\n",
    "        \n",
    "        customer += 1\n",
    "        \n",
    "        env.process(get_coffee(env, customer, Coffee_shop))\n",
    "        \n",
    "    print(f\"{customer} customers have arrived.\")\n",
    "    \n",
    "    "
   ]
  },
  {
   "cell_type": "code",
   "execution_count": 6,
   "id": "cabc756f-ca4c-4c58-bf74-bc6d976902c6",
   "metadata": {},
   "outputs": [],
   "source": [
    "def get_user_input():\n",
    "    num_cashiers = input(\"Input # of cashiers working: \")\n",
    "    num_baristas = input(\"Input # of baristas working: \")\n",
    "    mean_arrival_time = input(\"Input customer mean arrival time:\")\n",
    "    stoptime = input(\"Input stoptime:\")\n",
    "    max_arrivals = input(\"Input max number of arrivals\")\n",
    "    params = [num_cashiers, num_baristas, mean_arrival_time, stoptime, max_arrivals]\n",
    "    if all(str(i).isdigit() for i in params):  # Check input is valid\n",
    "        params = [int(x) for x in params]\n",
    "    else:\n",
    "        print(\n",
    "            \"Could not parse input. The simulation will use default values:\",\n",
    "            \"\\n1 cashier, 1 baristas.\",\n",
    "        )\n",
    "        params = [1, 1, 5, 480, 600]\n",
    "    return params"
   ]
  },
  {
   "cell_type": "code",
   "execution_count": 7,
   "id": "52e73e16-b566-44ec-a52c-78b6d956f2ea",
   "metadata": {},
   "outputs": [],
   "source": [
    "def get_average_wait_time(wait_times):\n",
    "    average_wait = np.mean(wait_times)\n",
    "    # Pretty print the results\n",
    "    minutes, frac_minutes = divmod(average_wait, 1)\n",
    "    seconds = frac_minutes * 60\n",
    "    return round(minutes), round(seconds)"
   ]
  },
  {
   "cell_type": "code",
   "execution_count": 8,
   "id": "78ef8e0b-a0f1-4f7a-9e2b-aeed9afbb865",
   "metadata": {},
   "outputs": [],
   "source": [
    "def get_max_wait_time(wait_times):\n",
    "    max_wait = np.max(wait_times)\n",
    "    # Pretty print the results\n",
    "    minutes, frac_minutes = divmod(max_wait, 1)\n",
    "    seconds = frac_minutes * 60\n",
    "    return round(minutes), round(seconds)"
   ]
  },
  {
   "cell_type": "code",
   "execution_count": 9,
   "id": "313ac529-5d24-4fe3-bd28-e28c0102e2fd",
   "metadata": {
    "tags": []
   },
   "outputs": [
    {
     "name": "stdin",
     "output_type": "stream",
     "text": [
      "Input # of cashiers working:  1\n",
      "Input # of baristas working:  2\n",
      "Input customer mean arrival time: 2\n",
      "Input stoptime: 100\n",
      "Input max number of arrivals 500\n"
     ]
    },
    {
     "name": "stdout",
     "output_type": "stream",
     "text": [
      "Running simulation...\n",
      "54 customers have arrived.\n",
      "\n",
      "Coffee shop made 167 drinks. \n",
      "The average wait time is 2 minutes and 34 seconds. \n",
      "The longest wait time was 5 minutes and 17 seconds.\n"
     ]
    }
   ],
   "source": [
    "total_drinks = []\n",
    "wait_times = []\n",
    "timestamps_list = []\n",
    "def main():\n",
    "    # Setup\n",
    "    num_cashiers, num_baristas, mean_arrival_time, stoptime, max_arrivals = get_user_input()\n",
    "    \n",
    "    \n",
    "    \n",
    "    print(\"Running simulation...\")\n",
    "\n",
    "    # Run the simulation\n",
    "    env = simpy.Environment()\n",
    "    env.process(run_coffee_shop(env, num_cashiers, num_baristas, mean_arrival_time, stoptime, max_arrivals))\n",
    "    env.run()\n",
    "\n",
    "    # Finalize Datafile\n",
    "    df = pd.DataFrame(timestamps_list)\n",
    "    df['num_cashiers'] = num_cashiers\n",
    "    df['num_baristas'] = num_baristas\n",
    "    df['mean_arrival_time'] = mean_arrival_time\n",
    "    df_name = f\"Cafe_Simulation_cashiers{num_cashiers}_baristas{num_baristas}\"\n",
    "    output_path = f'../output/{df_name}'\n",
    "    df.to_csv(output_path, index=False)\n",
    "    \n",
    "    # View the results\n",
    "    tot_drinks = sum(total_drinks)\n",
    "    mins, secs = get_average_wait_time(wait_times)\n",
    "    mx_mins, mx_secs = get_max_wait_time(wait_times)\n",
    "    print(\n",
    "        f\"\\nCoffee shop made {tot_drinks} drinks.\",\n",
    "        f\"\\nThe average wait time is {mins} minutes and {secs} seconds.\",\n",
    "        f\"\\nThe longest wait time was {mx_mins} minutes and {mx_secs} seconds.\",\n",
    "    )\n",
    "\n",
    "\n",
    "if __name__ == \"__main__\":\n",
    "    main()"
   ]
  },
  {
   "cell_type": "code",
   "execution_count": null,
   "id": "9bbb2855-7ed6-4291-b74e-31672bc94d4d",
   "metadata": {},
   "outputs": [],
   "source": [
    "a = [1,2,3,4,5]"
   ]
  },
  {
   "cell_type": "code",
   "execution_count": null,
   "id": "68d024eb-770a-4e74-ba40-e08e31f3ded1",
   "metadata": {},
   "outputs": [],
   "source": [
    "sum(a)"
   ]
  },
  {
   "cell_type": "code",
   "execution_count": null,
   "id": "861e2661-20d6-4dcd-af8a-3991bc7a9ec7",
   "metadata": {
    "tags": []
   },
   "outputs": [],
   "source": [
    "df = pd.DataFrame(timestamps_list)"
   ]
  },
  {
   "cell_type": "code",
   "execution_count": null,
   "id": "3301d4b9-93d1-40f4-b6f0-ec33c46d593b",
   "metadata": {},
   "outputs": [],
   "source": [
    "df.head()"
   ]
  },
  {
   "cell_type": "code",
   "execution_count": null,
   "id": "59cb2be1-beb3-4c9c-92e4-37244132295b",
   "metadata": {},
   "outputs": [],
   "source": [
    "df['baristas'] = 2"
   ]
  },
  {
   "cell_type": "code",
   "execution_count": null,
   "id": "4047629e-3ee6-4ed1-9429-8c1b7b59665d",
   "metadata": {},
   "outputs": [],
   "source": [
    "df.tail()"
   ]
  },
  {
   "cell_type": "code",
   "execution_count": null,
   "id": "298181b9-af8a-43c0-a38d-79e14680d60e",
   "metadata": {},
   "outputs": [],
   "source": []
  }
 ],
 "metadata": {
  "kernelspec": {
   "display_name": "Python 3",
   "language": "python",
   "name": "python3"
  },
  "language_info": {
   "codemirror_mode": {
    "name": "ipython",
    "version": 3
   },
   "file_extension": ".py",
   "mimetype": "text/x-python",
   "name": "python",
   "nbconvert_exporter": "python",
   "pygments_lexer": "ipython3",
   "version": "3.7.7"
  }
 },
 "nbformat": 4,
 "nbformat_minor": 5
}
