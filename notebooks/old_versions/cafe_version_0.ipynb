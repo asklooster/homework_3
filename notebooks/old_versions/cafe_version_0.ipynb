{
 "cells": [
  {
   "cell_type": "code",
   "execution_count": 1,
   "id": "39ea8c6f-aa7b-48f2-a693-10b4b0179fa5",
   "metadata": {},
   "outputs": [],
   "source": [
    "import math\n",
    "import numpy as np\n",
    "import pandas as pd\n",
    "from scipy import optimize\n",
    "import matplotlib.pyplot as plt\n",
    "import seaborn as sns\n",
    "from numpy.random import default_rng\n",
    "from IPython.display import Image\n",
    "import simpy"
   ]
  },
  {
   "cell_type": "code",
   "execution_count": 2,
   "id": "dcd21ef8-a145-4880-b22a-d1910d40f312",
   "metadata": {},
   "outputs": [],
   "source": [
    "import random"
   ]
  },
  {
   "cell_type": "code",
   "execution_count": 95,
   "id": "729efadc-f882-4c79-87dc-b1a702ace3f9",
   "metadata": {},
   "outputs": [],
   "source": [
    "import statistics"
   ]
  },
  {
   "cell_type": "code",
   "execution_count": 123,
   "id": "a3d1f445-ad53-46af-9366-adf4113ecf05",
   "metadata": {},
   "outputs": [],
   "source": [
    "wait_times = []\n",
    "timestamps_list = []"
   ]
  },
  {
   "cell_type": "code",
   "execution_count": 138,
   "id": "908c02bc-d30f-461e-b073-ee5db557573e",
   "metadata": {
    "tags": []
   },
   "outputs": [],
   "source": [
    "class coffee_shop(object):\n",
    "    def __init__(self, env, num_cashiers = 2, num_baristas = 2):\n",
    "        self.env = env\n",
    "        self.cashiers = simpy.Resource(env, num_cashiers)\n",
    "        self.baristas = simpy.Resource(env, num_baristas)\n",
    "        \n",
    "    def order_drinks(self, customer):\n",
    "        yield self.env.timeout(np.random.poisson(1))\n",
    "        \n",
    "    def get_drinks(self, customer):\n",
    "        yield self.env.timeout(np.random.poisson(2))"
   ]
  },
  {
   "cell_type": "code",
   "execution_count": 113,
   "id": "a630a5ed-3536-47cc-84a5-818e4bf6609d",
   "metadata": {},
   "outputs": [],
   "source": [
    "s = np.random.poisson(3, 10000)"
   ]
  },
  {
   "cell_type": "code",
   "execution_count": 129,
   "id": "53ec4054-0923-4a55-8160-e481b397f308",
   "metadata": {},
   "outputs": [
    {
     "data": {
      "text/plain": [
       "array([3, 3, 3, 0, 6, 3, 0, 1, 0, 6, 4, 1, 0, 2, 4, 3, 2, 1, 4, 3, 3, 5,\n",
       "       1, 4, 2])"
      ]
     },
     "execution_count": 129,
     "metadata": {},
     "output_type": "execute_result"
    }
   ],
   "source": [
    "s[:25]"
   ]
  },
  {
   "cell_type": "code",
   "execution_count": 114,
   "id": "69359656-5120-4a08-ab23-1dc987069835",
   "metadata": {},
   "outputs": [
    {
     "data": {
      "image/png": "[encoded data removed]",
      "text/plain": [
       "<Figure size 432x288 with 1 Axes>"
      ]
     },
     "metadata": {
      "needs_background": "light"
     },
     "output_type": "display_data"
    }
   ],
   "source": [
    "count, bins, ignored = plt.hist(s, 14, density=True)\n",
    "plt.show()"
   ]
  },
  {
   "cell_type": "code",
   "execution_count": 139,
   "id": "8889826e-115f-41c2-8f5a-3ce3e18528d3",
   "metadata": {},
   "outputs": [],
   "source": [
    "def get_coffee(env, customer, Coffee_shop):\n",
    "    arrival_time = env.now\n",
    "    \n",
    "    with Coffee_shop.cashiers.request() as request:\n",
    "        yield request\n",
    "        order_complete = env.now\n",
    "        yield env.process(Coffee_shop.order_drinks(customer))\n",
    "        \n",
    "    with Coffee_shop.baristas.request() as request:\n",
    "        yield request\n",
    "        recieved_order = env.now\n",
    "        yield env.process(Coffee_shop.get_drinks(customer))\n",
    "        \n",
    "    wait_times.append(env.now - arrival_time)\n",
    "    wait_time = env.now - arrival_time\n",
    "    \n",
    "    timestamps = {'customer_id': customer,\n",
    "                  'arrival_time': arrival_time,\n",
    "                  'order_complete': order_complete,\n",
    "                  'pick_up_order': recieved_order,\n",
    "                  'total_wait': wait_time}\n",
    "    timestamps_list.append(timestamps)\n",
    "    "
   ]
  },
  {
   "cell_type": "code",
   "execution_count": 140,
   "id": "9db08884-14a0-4e63-81bc-7c10aa9deeeb",
   "metadata": {},
   "outputs": [],
   "source": [
    "def run_coffee_shop(env, num_cashiers, num_baristas, stoptime = simpy.core.Infinity, max_arrivals = 200):\n",
    "    Coffee_shop = coffee_shop(env, num_cashiers, num_baristas)\n",
    "    \n",
    "    for customer in range(3):\n",
    "        env.process(get_coffee(env, customer, Coffee_shop))\n",
    "    \n",
    "    while env.now < stoptime and customer < max_arrivals:\n",
    "        iat = np.random.poisson(3)\n",
    "        \n",
    "        yield env.timeout(iat)\n",
    "        \n",
    "        customer += 1\n",
    "        \n",
    "        env.process(get_coffee(env, customer, Coffee_shop))\n",
    "        \n",
    "    print(f\"{customer} customers have arrived.\")\n",
    "    \n",
    "    "
   ]
  },
  {
   "cell_type": "code",
   "execution_count": 141,
   "id": "cabc756f-ca4c-4c58-bf74-bc6d976902c6",
   "metadata": {},
   "outputs": [],
   "source": [
    "def get_user_input():\n",
    "    num_cashiers = input(\"Input # of cashiers working: \")\n",
    "    num_baristas = input(\"Input # of baristas working: \")\n",
    "    params = [num_cashiers, num_baristas]\n",
    "    if all(str(i).isdigit() for i in params):  # Check input is valid\n",
    "        params = [int(x) for x in params]\n",
    "    else:\n",
    "        print(\n",
    "            \"Could not parse input. The simulation will use default values:\",\n",
    "            \"\\n1 cashier, 1 baristas.\",\n",
    "        )\n",
    "        params = [1, 1]\n",
    "    return params"
   ]
  },
  {
   "cell_type": "code",
   "execution_count": 142,
   "id": "52e73e16-b566-44ec-a52c-78b6d956f2ea",
   "metadata": {},
   "outputs": [],
   "source": [
    "def get_average_wait_time(wait_times):\n",
    "    average_wait = statistics.mean(wait_times)\n",
    "    # Pretty print the results\n",
    "    minutes, frac_minutes = divmod(average_wait, 1)\n",
    "    seconds = frac_minutes * 60\n",
    "    return round(minutes), round(seconds)"
   ]
  },
  {
   "cell_type": "code",
   "execution_count": 143,
   "id": "78ef8e0b-a0f1-4f7a-9e2b-aeed9afbb865",
   "metadata": {},
   "outputs": [],
   "source": [
    "def get_max_wait_time(wait_times):\n",
    "    max_wait = np.max(wait_times)\n",
    "    # Pretty print the results\n",
    "    minutes, frac_minutes = divmod(max_wait, 1)\n",
    "    seconds = frac_minutes * 60\n",
    "    return round(minutes), round(seconds)"
   ]
  },
  {
   "cell_type": "code",
   "execution_count": 150,
   "id": "313ac529-5d24-4fe3-bd28-e28c0102e2fd",
   "metadata": {},
   "outputs": [
    {
     "name": "stdin",
     "output_type": "stream",
     "text": [
      "Input # of cashiers working:  4\n",
      "Input # of baristas working:  4\n"
     ]
    },
    {
     "name": "stdout",
     "output_type": "stream",
     "text": [
      "34 customers have arrived.\n",
      "Running simulation... \n",
      "The average wait time is 2 minutes and 46 seconds. \n",
      "The longest wait time was 6 minutes and 0 seconds.\n"
     ]
    }
   ],
   "source": [
    "wait_times = []\n",
    "timestamps_list = []\n",
    "def main():\n",
    "    # Setup\n",
    "    random.seed(42)\n",
    "    num_cashiers, num_baristas = get_user_input()\n",
    "    \n",
    "\n",
    "    # Run the simulation\n",
    "    env = simpy.Environment()\n",
    "    env.process(run_coffee_shop(env, num_cashiers, num_baristas, stoptime = 100, max_arrivals = 200))\n",
    "    env.run()\n",
    "\n",
    "    # View the results\n",
    "    mins, secs = get_average_wait_time(wait_times)\n",
    "    mx_mins, mx_secs = get_max_wait_time(wait_times)\n",
    "    print(\n",
    "        \"Running simulation...\",\n",
    "        f\"\\nThe average wait time is {mins} minutes and {secs} seconds.\",\n",
    "        f\"\\nThe longest wait time was {mx_mins} minutes and {mx_secs} seconds.\",\n",
    "    )\n",
    "\n",
    "\n",
    "if __name__ == \"__main__\":\n",
    "    main()"
   ]
  },
  {
   "cell_type": "code",
   "execution_count": 149,
   "id": "861e2661-20d6-4dcd-af8a-3991bc7a9ec7",
   "metadata": {},
   "outputs": [
    {
     "data": {
      "text/plain": [
       "[{'customer_id': 0,\n",
       "  'arrival_time': 0,\n",
       "  'order_complete': 0,\n",
       "  'pick_up_order': 0,\n",
       "  'total_wait': 0},\n",
       " {'customer_id': 1,\n",
       "  'arrival_time': 0,\n",
       "  'order_complete': 0,\n",
       "  'pick_up_order': 1,\n",
       "  'total_wait': 2},\n",
       " {'customer_id': 2,\n",
       "  'arrival_time': 0,\n",
       "  'order_complete': 1,\n",
       "  'pick_up_order': 1,\n",
       "  'total_wait': 3},\n",
       " {'customer_id': 3,\n",
       "  'arrival_time': 4,\n",
       "  'order_complete': 4,\n",
       "  'pick_up_order': 5,\n",
       "  'total_wait': 4},\n",
       " {'customer_id': 5,\n",
       "  'arrival_time': 8,\n",
       "  'order_complete': 8,\n",
       "  'pick_up_order': 8,\n",
       "  'total_wait': 1},\n",
       " {'customer_id': 4,\n",
       "  'arrival_time': 4,\n",
       "  'order_complete': 5,\n",
       "  'pick_up_order': 7,\n",
       "  'total_wait': 7},\n",
       " {'customer_id': 6,\n",
       "  'arrival_time': 14,\n",
       "  'order_complete': 14,\n",
       "  'pick_up_order': 15,\n",
       "  'total_wait': 6},\n",
       " {'customer_id': 7,\n",
       "  'arrival_time': 21,\n",
       "  'order_complete': 21,\n",
       "  'pick_up_order': 22,\n",
       "  'total_wait': 3},\n",
       " {'customer_id': 8,\n",
       "  'arrival_time': 23,\n",
       "  'order_complete': 23,\n",
       "  'pick_up_order': 23,\n",
       "  'total_wait': 3},\n",
       " {'customer_id': 9,\n",
       "  'arrival_time': 27,\n",
       "  'order_complete': 27,\n",
       "  'pick_up_order': 27,\n",
       "  'total_wait': 4},\n",
       " {'customer_id': 10,\n",
       "  'arrival_time': 29,\n",
       "  'order_complete': 29,\n",
       "  'pick_up_order': 29,\n",
       "  'total_wait': 2},\n",
       " {'customer_id': 11,\n",
       "  'arrival_time': 30,\n",
       "  'order_complete': 30,\n",
       "  'pick_up_order': 32,\n",
       "  'total_wait': 2},\n",
       " {'customer_id': 12,\n",
       "  'arrival_time': 30,\n",
       "  'order_complete': 32,\n",
       "  'pick_up_order': 32,\n",
       "  'total_wait': 2},\n",
       " {'customer_id': 13,\n",
       "  'arrival_time': 35,\n",
       "  'order_complete': 35,\n",
       "  'pick_up_order': 36,\n",
       "  'total_wait': 2},\n",
       " {'customer_id': 14,\n",
       "  'arrival_time': 38,\n",
       "  'order_complete': 38,\n",
       "  'pick_up_order': 39,\n",
       "  'total_wait': 2},\n",
       " {'customer_id': 15,\n",
       "  'arrival_time': 42,\n",
       "  'order_complete': 42,\n",
       "  'pick_up_order': 43,\n",
       "  'total_wait': 2},\n",
       " {'customer_id': 16,\n",
       "  'arrival_time': 43,\n",
       "  'order_complete': 43,\n",
       "  'pick_up_order': 45,\n",
       "  'total_wait': 4},\n",
       " {'customer_id': 17,\n",
       "  'arrival_time': 47,\n",
       "  'order_complete': 47,\n",
       "  'pick_up_order': 50,\n",
       "  'total_wait': 6},\n",
       " {'customer_id': 18,\n",
       "  'arrival_time': 51,\n",
       "  'order_complete': 51,\n",
       "  'pick_up_order': 53,\n",
       "  'total_wait': 4},\n",
       " {'customer_id': 19,\n",
       "  'arrival_time': 55,\n",
       "  'order_complete': 55,\n",
       "  'pick_up_order': 55,\n",
       "  'total_wait': 1},\n",
       " {'customer_id': 21,\n",
       "  'arrival_time': 58,\n",
       "  'order_complete': 58,\n",
       "  'pick_up_order': 58,\n",
       "  'total_wait': 0},\n",
       " {'customer_id': 20,\n",
       "  'arrival_time': 58,\n",
       "  'order_complete': 58,\n",
       "  'pick_up_order': 58,\n",
       "  'total_wait': 4},\n",
       " {'customer_id': 22,\n",
       "  'arrival_time': 61,\n",
       "  'order_complete': 61,\n",
       "  'pick_up_order': 64,\n",
       "  'total_wait': 4},\n",
       " {'customer_id': 23,\n",
       "  'arrival_time': 61,\n",
       "  'order_complete': 64,\n",
       "  'pick_up_order': 65,\n",
       "  'total_wait': 4},\n",
       " {'customer_id': 24,\n",
       "  'arrival_time': 61,\n",
       "  'order_complete': 65,\n",
       "  'pick_up_order': 67,\n",
       "  'total_wait': 6},\n",
       " {'customer_id': 25,\n",
       "  'arrival_time': 65,\n",
       "  'order_complete': 67,\n",
       "  'pick_up_order': 67,\n",
       "  'total_wait': 5},\n",
       " {'customer_id': 26,\n",
       "  'arrival_time': 67,\n",
       "  'order_complete': 67,\n",
       "  'pick_up_order': 67,\n",
       "  'total_wait': 3},\n",
       " {'customer_id': 27,\n",
       "  'arrival_time': 72,\n",
       "  'order_complete': 72,\n",
       "  'pick_up_order': 76,\n",
       "  'total_wait': 7},\n",
       " {'customer_id': 28,\n",
       "  'arrival_time': 74,\n",
       "  'order_complete': 76,\n",
       "  'pick_up_order': 78,\n",
       "  'total_wait': 6},\n",
       " {'customer_id': 30,\n",
       "  'arrival_time': 77,\n",
       "  'order_complete': 79,\n",
       "  'pick_up_order': 80,\n",
       "  'total_wait': 5},\n",
       " {'customer_id': 29,\n",
       "  'arrival_time': 76,\n",
       "  'order_complete': 78,\n",
       "  'pick_up_order': 79,\n",
       "  'total_wait': 7},\n",
       " {'customer_id': 32,\n",
       "  'arrival_time': 83,\n",
       "  'order_complete': 84,\n",
       "  'pick_up_order': 84,\n",
       "  'total_wait': 3},\n",
       " {'customer_id': 33,\n",
       "  'arrival_time': 86,\n",
       "  'order_complete': 86,\n",
       "  'pick_up_order': 87,\n",
       "  'total_wait': 1},\n",
       " {'customer_id': 31,\n",
       "  'arrival_time': 82,\n",
       "  'order_complete': 82,\n",
       "  'pick_up_order': 84,\n",
       "  'total_wait': 6},\n",
       " {'customer_id': 34,\n",
       "  'arrival_time': 86,\n",
       "  'order_complete': 87,\n",
       "  'pick_up_order': 87,\n",
       "  'total_wait': 4},\n",
       " {'customer_id': 35,\n",
       "  'arrival_time': 90,\n",
       "  'order_complete': 90,\n",
       "  'pick_up_order': 90,\n",
       "  'total_wait': 3},\n",
       " {'customer_id': 36,\n",
       "  'arrival_time': 96,\n",
       "  'order_complete': 96,\n",
       "  'pick_up_order': 96,\n",
       "  'total_wait': 1},\n",
       " {'customer_id': 37,\n",
       "  'arrival_time': 97,\n",
       "  'order_complete': 97,\n",
       "  'pick_up_order': 97,\n",
       "  'total_wait': 3},\n",
       " {'customer_id': 38,\n",
       "  'arrival_time': 102,\n",
       "  'order_complete': 102,\n",
       "  'pick_up_order': 103,\n",
       "  'total_wait': 5}]"
      ]
     },
     "execution_count": 149,
     "metadata": {},
     "output_type": "execute_result"
    }
   ],
   "source": [
    "timestamps_list"
   ]
  },
  {
   "cell_type": "code",
   "execution_count": null,
   "id": "3301d4b9-93d1-40f4-b6f0-ec33c46d593b",
   "metadata": {},
   "outputs": [],
   "source": []
  }
 ],
 "metadata": {
  "kernelspec": {
   "display_name": "Python 3",
   "language": "python",
   "name": "python3"
  },
  "language_info": {
   "codemirror_mode": {
    "name": "ipython",
    "version": 3
   },
   "file_extension": ".py",
   "mimetype": "text/x-python",
   "name": "python",
   "nbconvert_exporter": "python",
   "pygments_lexer": "ipython3",
   "version": "3.7.7"
  }
 },
 "nbformat": 4,
 "nbformat_minor": 5
}
