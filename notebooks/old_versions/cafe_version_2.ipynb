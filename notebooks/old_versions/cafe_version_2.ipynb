{
 "cells": [
  {
   "cell_type": "code",
   "execution_count": 88,
   "id": "39ea8c6f-aa7b-48f2-a693-10b4b0179fa5",
   "metadata": {},
   "outputs": [],
   "source": [
    "import math\n",
    "import numpy as np\n",
    "import pandas as pd\n",
    "from scipy import optimize\n",
    "import matplotlib.pyplot as plt\n",
    "import seaborn as sns\n",
    "from numpy.random import default_rng\n",
    "from IPython.display import Image\n",
    "import simpy"
   ]
  },
  {
   "cell_type": "code",
   "execution_count": 87,
   "id": "b00d0db9-3cc9-4212-81eb-4c4225a97757",
   "metadata": {},
   "outputs": [
    {
     "name": "stdout",
     "output_type": "stream",
     "text": [
      "Variable                Type                          Data/Info\n",
      "---------------------------------------------------------------\n",
      "Image                   type                          <class 'IPython.core.display.Image'>\n",
      "coffee_shop             type                          <class '__main__.coffee_shop'>\n",
      "default_rng             builtin_function_or_method    <built-in function default_rng>\n",
      "get_average_wait_time   function                      <function get_average_wai<...>t_time at 0x7fefb954ecb0>\n",
      "get_coffee              function                      <function get_coffee at 0x7fefb954e8c0>\n",
      "get_max_wait_time       function                      <function get_max_wait_time at 0x7fefb9537b90>\n",
      "get_user_input          function                      <function get_user_input at 0x7fefb954edd0>\n",
      "i                       float64                       0.8549888381475644\n",
      "main                    function                      <function main at 0x7fefb954ea70>\n",
      "math                    module                        <module 'math' from '/Use<...>h.cpython-37m-darwin.so'>\n",
      "np                      module                        <module 'numpy' from '/Us<...>kages/numpy/__init__.py'>\n",
      "optimize                module                        <module 'scipy.optimize' <...>py/optimize/__init__.py'>\n",
      "pd                      DataFrame                         customer_id  arrival_<...>\\n\\n[97 rows x 6 columns]\n",
      "plt                     module                        <module 'matplotlib.pyplo<...>es/matplotlib/pyplot.py'>\n",
      "q                       ndarray                       100000111: 100000111 elems, type `float64`, 800000888 bytes (762.940299987793 Mb)\n",
      "random                  module                        <module 'random' from '/U<...>lib/python3.7/random.py'>\n",
      "rg                      Generator                     Generator(PCG64)\n",
      "run_coffee_shop         function                      <function run_coffee_shop at 0x7fefb954ec20>\n",
      "s                       ndarray                       10000: 10000 elems, type `int64`, 80000 bytes\n",
      "simpy                   module                        <module 'simpy' from '/Us<...>kages/simpy/__init__.py'>\n",
      "sns                     module                        <module 'seaborn' from '/<...>ges/seaborn/__init__.py'>\n",
      "statistics              module                        <module 'statistics' from<...>python3.7/statistics.py'>\n",
      "timestamps_list         list                          n=110\n",
      "total_drinks            list                          n=110\n",
      "wait_times              list                          n=110\n"
     ]
    }
   ],
   "source": [
    "%whos"
   ]
  },
  {
   "cell_type": "code",
   "execution_count": 4,
   "id": "dcd21ef8-a145-4880-b22a-d1910d40f312",
   "metadata": {},
   "outputs": [],
   "source": [
    "import random"
   ]
  },
  {
   "cell_type": "code",
   "execution_count": 5,
   "id": "42253511-821e-44ef-8e62-a2b11cb2d8ea",
   "metadata": {},
   "outputs": [],
   "source": [
    "from numpy.random import default_rng\n",
    "rg = default_rng(seed=4470)"
   ]
  },
  {
   "cell_type": "code",
   "execution_count": null,
   "id": "0ededfe1-ba2b-48f3-a4b0-94754679dd4f",
   "metadata": {},
   "outputs": [],
   "source": [
    "rg."
   ]
  },
  {
   "cell_type": "code",
   "execution_count": 6,
   "id": "729efadc-f882-4c79-87dc-b1a702ace3f9",
   "metadata": {},
   "outputs": [],
   "source": [
    "import statistics"
   ]
  },
  {
   "cell_type": "code",
   "execution_count": 7,
   "id": "a3d1f445-ad53-46af-9366-adf4113ecf05",
   "metadata": {},
   "outputs": [],
   "source": [
    "wait_times = []\n",
    "timestamps_list = []"
   ]
  },
  {
   "cell_type": "code",
   "execution_count": 66,
   "id": "908c02bc-d30f-461e-b073-ee5db557573e",
   "metadata": {
    "tags": []
   },
   "outputs": [],
   "source": [
    "class coffee_shop(object):\n",
    "    def __init__(self, env, num_cashiers = 2, num_baristas = 2, mean_order_time = .4, sd_order_time = .05, mean_fulfillment_time = .75, sd_fulfillment_time = .10, rg = rg):\n",
    "        \n",
    "        self.env = env\n",
    "        self.rg = rg\n",
    "        \n",
    "        self.cashiers = simpy.Resource(env, num_cashiers)\n",
    "        self.baristas = simpy.Resource(env, num_baristas)\n",
    "        \n",
    "        self.mean_order_time = mean_order_time\n",
    "        self.sd_order_time = sd_order_time\n",
    "        \n",
    "        self.mean_fulfillment_time = mean_fulfillment_time\n",
    "        self.sd_fulfillment_time = sd_fulfillment_time\n",
    "        \n",
    "    def order_drinks(self, customer):\n",
    "        yield self.env.timeout(self.rg.normal(self.mean_order_time, self.sd_order_time))\n",
    "        \n",
    "    def get_drinks(self, customer):\n",
    "        yield self.env.timeout(self.rg.normal(self.mean_fulfillment_time, self.sd_fulfillment_time))"
   ]
  },
  {
   "cell_type": "code",
   "execution_count": 100,
   "id": "a630a5ed-3536-47cc-84a5-818e4bf6609d",
   "metadata": {},
   "outputs": [],
   "source": [
    "s = np.random.poisson(1, 10000) + 1"
   ]
  },
  {
   "cell_type": "code",
   "execution_count": 101,
   "id": "69359656-5120-4a08-ab23-1dc987069835",
   "metadata": {},
   "outputs": [
    {
     "data": {
      "image/png": "[encoded data removed]",
      "text/plain": [
       "<Figure size 432x288 with 1 Axes>"
      ]
     },
     "metadata": {
      "needs_background": "light"
     },
     "output_type": "display_data"
    }
   ],
   "source": [
    "count, bins, ignored = plt.hist(s, 14, density=True)\n",
    "plt.show()"
   ]
  },
  {
   "cell_type": "code",
   "execution_count": 93,
   "id": "6ece2ed9-defb-4a99-97ba-5311be608fca",
   "metadata": {},
   "outputs": [
    {
     "data": {
      "text/plain": [
       "array([0, 2, 1, 1, 1, 3, 3, 3, 3, 0])"
      ]
     },
     "execution_count": 93,
     "metadata": {},
     "output_type": "execute_result"
    }
   ],
   "source": [
    "s[:10]"
   ]
  },
  {
   "cell_type": "code",
   "execution_count": 64,
   "id": "ed71eab0-b59d-48f0-b1d5-20d91c7fb47a",
   "metadata": {},
   "outputs": [],
   "source": [
    "q = rg.normal(.75, .1, 100000111)"
   ]
  },
  {
   "cell_type": "code",
   "execution_count": 65,
   "id": "53ec4054-0923-4a55-8160-e481b397f308",
   "metadata": {},
   "outputs": [
    {
     "name": "stdout",
     "output_type": "stream",
     "text": [
      "-0.0022236960006020157\n",
      "-0.03267066261642859\n",
      "-0.04065788846497875\n",
      "-0.0022462260602068573\n",
      "-0.04642395790129539\n",
      "-0.024043787464899435\n",
      "-0.025934816720532106\n",
      "-0.024688514685128782\n",
      "-0.059432118806894585\n",
      "-0.006561442305560106\n",
      "-0.020615052689159086\n",
      "-0.0093544304992762\n",
      "-0.03205367291350503\n",
      "-0.024792872578372704\n",
      "-0.057309854463723275\n",
      "-0.022394247539192724\n",
      "-0.008089370779888694\n",
      "-0.07482678045249602\n",
      "-0.003654583320604199\n",
      "-0.0037652741971941905\n",
      "-0.014324328687605914\n",
      "-0.01557822808321252\n",
      "-0.04770198415643179\n",
      "-0.014433682614635401\n",
      "-0.09516397521791531\n",
      "-0.002197449549930619\n",
      "-0.07238053143149337\n",
      "-0.033590830976264585\n",
      "-0.0560437989058481\n",
      "-0.004579693632940973\n",
      "-0.01716713641608336\n",
      "-0.02477322262272652\n",
      "-0.04389623318075431\n",
      "-0.007351252034039302\n"
     ]
    }
   ],
   "source": [
    "for i in q:\n",
    "    if i < 0:\n",
    "        print(i)"
   ]
  },
  {
   "cell_type": "code",
   "execution_count": 116,
   "id": "8889826e-115f-41c2-8f5a-3ce3e18528d3",
   "metadata": {},
   "outputs": [],
   "source": [
    "def get_coffee(env, customer, Coffee_shop):\n",
    "    arrival_time = env.now\n",
    "    order_qty = rg.poisson(1) + 1\n",
    "    \n",
    "    with Coffee_shop.cashiers.request() as request:\n",
    "        yield request\n",
    "        reached_cashier = env.now\n",
    "        for i in range(order_qty):\n",
    "            yield env.process(Coffee_shop.order_drinks(customer))\n",
    "            # print(f\"Customer {customer + 1} order for item {i + 1} of {order_qty} is placed at time {env.now:.2f}\")\n",
    "    order_placed = env.now\n",
    "    \n",
    "    with Coffee_shop.baristas.request() as request:\n",
    "        yield request\n",
    "        reached_barista = env.now\n",
    "        for i in range(order_qty):\n",
    "            yield env.process(Coffee_shop.get_drinks(customer))\n",
    "            # print(f\"Customer {customer + 1} order for item {i + 1} of {order_qty} is fulfilled at time {env.now:.2f}\")\n",
    "    order_fulfilled = env.now\n",
    "    \n",
    "    total_drinks.append(order_qty + 1)\n",
    "    wait_times.append(env.now - arrival_time)\n",
    "    wait_time = env.now - arrival_time\n",
    "    order_to_fulfillment_wait = order_fulfilled - order_placed\n",
    "    \n",
    "    timestamps = {'customer_id': customer + 1,\n",
    "                  'arrival_time': arrival_time,\n",
    "                  'reached_cashier': reached_cashier,\n",
    "                  'order_qty': order_qty,\n",
    "                  'order_placed': order_placed,\n",
    "                  'reached_barista': reached_barista,\n",
    "                  'order_fulfilled': order_fulfilled,\n",
    "                  'order_processing_time': order_to_fulfillment_wait,\n",
    "                  'total_wait': wait_time}\n",
    "    \n",
    "    timestamps_list.append(timestamps)\n",
    "    "
   ]
  },
  {
   "cell_type": "code",
   "execution_count": 103,
   "id": "9db08884-14a0-4e63-81bc-7c10aa9deeeb",
   "metadata": {},
   "outputs": [],
   "source": [
    "def run_coffee_shop(env, num_cashiers, num_baristas, stoptime = simpy.core.Infinity, max_arrivals = 200):\n",
    "    Coffee_shop = coffee_shop(env, num_cashiers, num_baristas)\n",
    "    \n",
    "    for customer in range(3):\n",
    "        env.process(get_coffee(env, customer, Coffee_shop))\n",
    "    \n",
    "    while env.now < stoptime and customer < max_arrivals:\n",
    "        iat = rg.poisson(1)\n",
    "        \n",
    "        yield env.timeout(iat)\n",
    "        \n",
    "        customer += 1\n",
    "        \n",
    "        env.process(get_coffee(env, customer, Coffee_shop))\n",
    "        \n",
    "    print(f\"{customer} customers have arrived.\")\n",
    "    \n",
    "    "
   ]
  },
  {
   "cell_type": "code",
   "execution_count": 104,
   "id": "cabc756f-ca4c-4c58-bf74-bc6d976902c6",
   "metadata": {},
   "outputs": [],
   "source": [
    "def get_user_input():\n",
    "    num_cashiers = input(\"Input # of cashiers working: \")\n",
    "    num_baristas = input(\"Input # of baristas working: \")\n",
    "    params = [num_cashiers, num_baristas]\n",
    "    if all(str(i).isdigit() for i in params):  # Check input is valid\n",
    "        params = [int(x) for x in params]\n",
    "    else:\n",
    "        print(\n",
    "            \"Could not parse input. The simulation will use default values:\",\n",
    "            \"\\n1 cashier, 1 baristas.\",\n",
    "        )\n",
    "        params = [1, 1]\n",
    "    return params"
   ]
  },
  {
   "cell_type": "code",
   "execution_count": 105,
   "id": "52e73e16-b566-44ec-a52c-78b6d956f2ea",
   "metadata": {},
   "outputs": [],
   "source": [
    "def get_average_wait_time(wait_times):\n",
    "    average_wait = statistics.mean(wait_times)\n",
    "    # Pretty print the results\n",
    "    minutes, frac_minutes = divmod(average_wait, 1)\n",
    "    seconds = frac_minutes * 60\n",
    "    return round(minutes), round(seconds)"
   ]
  },
  {
   "cell_type": "code",
   "execution_count": 106,
   "id": "78ef8e0b-a0f1-4f7a-9e2b-aeed9afbb865",
   "metadata": {},
   "outputs": [],
   "source": [
    "def get_max_wait_time(wait_times):\n",
    "    max_wait = np.max(wait_times)\n",
    "    # Pretty print the results\n",
    "    minutes, frac_minutes = divmod(max_wait, 1)\n",
    "    seconds = frac_minutes * 60\n",
    "    return round(minutes), round(seconds)"
   ]
  },
  {
   "cell_type": "code",
   "execution_count": 117,
   "id": "313ac529-5d24-4fe3-bd28-e28c0102e2fd",
   "metadata": {},
   "outputs": [
    {
     "name": "stdin",
     "output_type": "stream",
     "text": [
      "Input # of cashiers working:  1\n",
      "Input # of baristas working:  2\n"
     ]
    },
    {
     "name": "stdout",
     "output_type": "stream",
     "text": [
      "Running simulation...\n",
      "400 customers have arrived.\n",
      "\n",
      "Coffee shop made 1201 drinks. \n",
      "The average wait time is 3 minutes and 35 seconds. \n",
      "The longest wait time was 11 minutes and 19 seconds.\n"
     ]
    }
   ],
   "source": [
    "total_drinks = []\n",
    "wait_times = []\n",
    "timestamps_list = []\n",
    "def main():\n",
    "    # Setup\n",
    "    random.seed(42)\n",
    "    num_cashiers, num_baristas = get_user_input()\n",
    "    \n",
    "    print(\"Running simulation...\")\n",
    "\n",
    "    # Run the simulation\n",
    "    env = simpy.Environment()\n",
    "    env.process(run_coffee_shop(env, num_cashiers, num_baristas, stoptime = simpy.core.Infinity, max_arrivals = 400))\n",
    "    env.run()\n",
    "\n",
    "    # View the results\n",
    "    tot_drinks = sum(total_drinks)\n",
    "    mins, secs = get_average_wait_time(wait_times)\n",
    "    mx_mins, mx_secs = get_max_wait_time(wait_times)\n",
    "    print(\n",
    "        f\"\\nCoffee shop made {tot_drinks} drinks.\",\n",
    "        f\"\\nThe average wait time is {mins} minutes and {secs} seconds.\",\n",
    "        f\"\\nThe longest wait time was {mx_mins} minutes and {mx_secs} seconds.\",\n",
    "    )\n",
    "\n",
    "\n",
    "if __name__ == \"__main__\":\n",
    "    main()"
   ]
  },
  {
   "cell_type": "code",
   "execution_count": 61,
   "id": "9bbb2855-7ed6-4291-b74e-31672bc94d4d",
   "metadata": {},
   "outputs": [],
   "source": [
    "a = [1,2,3,4,5]"
   ]
  },
  {
   "cell_type": "code",
   "execution_count": 63,
   "id": "68d024eb-770a-4e74-ba40-e08e31f3ded1",
   "metadata": {},
   "outputs": [
    {
     "data": {
      "text/plain": [
       "15"
      ]
     },
     "execution_count": 63,
     "metadata": {},
     "output_type": "execute_result"
    }
   ],
   "source": [
    "sum(a)"
   ]
  },
  {
   "cell_type": "code",
   "execution_count": 114,
   "id": "861e2661-20d6-4dcd-af8a-3991bc7a9ec7",
   "metadata": {
    "tags": []
   },
   "outputs": [],
   "source": [
    "df = pd.DataFrame(timestamps_list)"
   ]
  },
  {
   "cell_type": "code",
   "execution_count": 115,
   "id": "3301d4b9-93d1-40f4-b6f0-ec33c46d593b",
   "metadata": {},
   "outputs": [
    {
     "data": {
      "text/html": [
       "<div>\n",
       "<style scoped>\n",
       "    .dataframe tbody tr th:only-of-type {\n",
       "        vertical-align: middle;\n",
       "    }\n",
       "\n",
       "    .dataframe tbody tr th {\n",
       "        vertical-align: top;\n",
       "    }\n",
       "\n",
       "    .dataframe thead th {\n",
       "        text-align: right;\n",
       "    }\n",
       "</style>\n",
       "<table border=\"1\" class=\"dataframe\">\n",
       "  <thead>\n",
       "    <tr style=\"text-align: right;\">\n",
       "      <th></th>\n",
       "      <th>customer_id</th>\n",
       "      <th>arrival_time</th>\n",
       "      <th>reached_cashier</th>\n",
       "      <th>order_qty</th>\n",
       "      <th>order_placed</th>\n",
       "      <th>reached_barista</th>\n",
       "      <th>order_fulfilled</th>\n",
       "      <th>order_processing_time</th>\n",
       "      <th>total_wait</th>\n",
       "    </tr>\n",
       "  </thead>\n",
       "  <tbody>\n",
       "    <tr>\n",
       "      <th>0</th>\n",
       "      <td>2</td>\n",
       "      <td>0</td>\n",
       "      <td>0.368416</td>\n",
       "      <td>1</td>\n",
       "      <td>0.556934</td>\n",
       "      <td>0.556934</td>\n",
       "      <td>1.394976</td>\n",
       "      <td>0.838042</td>\n",
       "      <td>1.394976</td>\n",
       "    </tr>\n",
       "    <tr>\n",
       "      <th>1</th>\n",
       "      <td>1</td>\n",
       "      <td>0</td>\n",
       "      <td>0.000000</td>\n",
       "      <td>2</td>\n",
       "      <td>0.368416</td>\n",
       "      <td>0.368416</td>\n",
       "      <td>1.719692</td>\n",
       "      <td>1.351276</td>\n",
       "      <td>1.719692</td>\n",
       "    </tr>\n",
       "    <tr>\n",
       "      <th>2</th>\n",
       "      <td>3</td>\n",
       "      <td>0</td>\n",
       "      <td>0.556934</td>\n",
       "      <td>1</td>\n",
       "      <td>0.743947</td>\n",
       "      <td>1.394976</td>\n",
       "      <td>2.219421</td>\n",
       "      <td>1.475473</td>\n",
       "      <td>2.219421</td>\n",
       "    </tr>\n",
       "    <tr>\n",
       "      <th>3</th>\n",
       "      <td>4</td>\n",
       "      <td>0</td>\n",
       "      <td>0.743947</td>\n",
       "      <td>2</td>\n",
       "      <td>1.197927</td>\n",
       "      <td>1.719692</td>\n",
       "      <td>3.474621</td>\n",
       "      <td>2.276694</td>\n",
       "      <td>3.474621</td>\n",
       "    </tr>\n",
       "    <tr>\n",
       "      <th>4</th>\n",
       "      <td>5</td>\n",
       "      <td>1</td>\n",
       "      <td>1.197927</td>\n",
       "      <td>3</td>\n",
       "      <td>1.818438</td>\n",
       "      <td>2.219421</td>\n",
       "      <td>4.493813</td>\n",
       "      <td>2.675375</td>\n",
       "      <td>3.493813</td>\n",
       "    </tr>\n",
       "  </tbody>\n",
       "</table>\n",
       "</div>"
      ],
      "text/plain": [
       "   customer_id  arrival_time  reached_cashier  order_qty  order_placed  \\\n",
       "0            2             0         0.368416          1      0.556934   \n",
       "1            1             0         0.000000          2      0.368416   \n",
       "2            3             0         0.556934          1      0.743947   \n",
       "3            4             0         0.743947          2      1.197927   \n",
       "4            5             1         1.197927          3      1.818438   \n",
       "\n",
       "   reached_barista  order_fulfilled  order_processing_time  total_wait  \n",
       "0         0.556934         1.394976               0.838042    1.394976  \n",
       "1         0.368416         1.719692               1.351276    1.719692  \n",
       "2         1.394976         2.219421               1.475473    2.219421  \n",
       "3         1.719692         3.474621               2.276694    3.474621  \n",
       "4         2.219421         4.493813               2.675375    3.493813  "
      ]
     },
     "execution_count": 115,
     "metadata": {},
     "output_type": "execute_result"
    }
   ],
   "source": [
    "df.head()"
   ]
  },
  {
   "cell_type": "code",
   "execution_count": null,
   "id": "59cb2be1-beb3-4c9c-92e4-37244132295b",
   "metadata": {},
   "outputs": [],
   "source": []
  }
 ],
 "metadata": {
  "kernelspec": {
   "display_name": "Python 3",
   "language": "python",
   "name": "python3"
  },
  "language_info": {
   "codemirror_mode": {
    "name": "ipython",
    "version": 3
   },
   "file_extension": ".py",
   "mimetype": "text/x-python",
   "name": "python",
   "nbconvert_exporter": "python",
   "pygments_lexer": "ipython3",
   "version": "3.7.7"
  }
 },
 "nbformat": 4,
 "nbformat_minor": 5
}
